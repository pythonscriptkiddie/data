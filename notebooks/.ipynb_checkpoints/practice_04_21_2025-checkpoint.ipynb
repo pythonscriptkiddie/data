{
 "cells": [
  {
   "cell_type": "code",
   "execution_count": 9,
   "id": "520e2d90-ad35-4445-9bb5-162b512af774",
   "metadata": {},
   "outputs": [],
   "source": [
    "from typing import List\n",
    "import pandas as pd"
   ]
  },
  {
   "cell_type": "code",
   "execution_count": 10,
   "id": "ff57bac7-e7bb-44bd-92d5-62555cc6a875",
   "metadata": {},
   "outputs": [],
   "source": [
    "data_path = '../mortality/mortality.csv'"
   ]
  },
  {
   "cell_type": "code",
   "execution_count": 11,
   "id": "d8de9600-f7a9-42c8-ac08-dc61637f3725",
   "metadata": {},
   "outputs": [],
   "source": [
    "mortality_data = pd.read_csv(data_path)"
   ]
  },
  {
   "cell_type": "code",
   "execution_count": 12,
   "id": "0048a318-7847-4493-854b-c461933a5d60",
   "metadata": {},
   "outputs": [
    {
     "data": {
      "text/html": [
       "<div>\n",
       "<style scoped>\n",
       "    .dataframe tbody tr th:only-of-type {\n",
       "        vertical-align: middle;\n",
       "    }\n",
       "\n",
       "    .dataframe tbody tr th {\n",
       "        vertical-align: top;\n",
       "    }\n",
       "\n",
       "    .dataframe thead th {\n",
       "        text-align: right;\n",
       "    }\n",
       "</style>\n",
       "<table border=\"1\" class=\"dataframe\">\n",
       "  <thead>\n",
       "    <tr style=\"text-align: right;\">\n",
       "      <th></th>\n",
       "      <th>Year</th>\n",
       "      <th>Age Group</th>\n",
       "      <th>Death Rate</th>\n",
       "    </tr>\n",
       "  </thead>\n",
       "  <tbody>\n",
       "    <tr>\n",
       "      <th>0</th>\n",
       "      <td>1900</td>\n",
       "      <td>1-4 Years</td>\n",
       "      <td>1983.8</td>\n",
       "    </tr>\n",
       "    <tr>\n",
       "      <th>1</th>\n",
       "      <td>1901</td>\n",
       "      <td>1-4 Years</td>\n",
       "      <td>1695.0</td>\n",
       "    </tr>\n",
       "    <tr>\n",
       "      <th>2</th>\n",
       "      <td>1902</td>\n",
       "      <td>1-4 Years</td>\n",
       "      <td>1655.7</td>\n",
       "    </tr>\n",
       "    <tr>\n",
       "      <th>3</th>\n",
       "      <td>1903</td>\n",
       "      <td>1-4 Years</td>\n",
       "      <td>1542.1</td>\n",
       "    </tr>\n",
       "    <tr>\n",
       "      <th>4</th>\n",
       "      <td>1904</td>\n",
       "      <td>1-4 Years</td>\n",
       "      <td>1591.5</td>\n",
       "    </tr>\n",
       "  </tbody>\n",
       "</table>\n",
       "</div>"
      ],
      "text/plain": [
       "   Year  Age Group  Death Rate\n",
       "0  1900  1-4 Years      1983.8\n",
       "1  1901  1-4 Years      1695.0\n",
       "2  1902  1-4 Years      1655.7\n",
       "3  1903  1-4 Years      1542.1\n",
       "4  1904  1-4 Years      1591.5"
      ]
     },
     "execution_count": 12,
     "metadata": {},
     "output_type": "execute_result"
    }
   ],
   "source": [
    "mortality_data.head()"
   ]
  },
  {
   "cell_type": "code",
   "execution_count": 22,
   "id": "00cd04da-63f7-4f21-a4ca-306879db7afd",
   "metadata": {},
   "outputs": [],
   "source": [
    "#DataFrame constructor\n",
    "df_data : List[List[str | int | float]] = [[1900, '1-4 years', 1983.8],\n",
    "                                          [1901, '1-4 years', 1695.0]]\n",
    "df_columns : List[str] = ['Year', 'Age Group', 'Death Rate']"
   ]
  },
  {
   "cell_type": "code",
   "execution_count": 25,
   "id": "68408950-9794-445c-86f1-25a3a54b4a96",
   "metadata": {},
   "outputs": [],
   "source": [
    "import pandas as pd\n",
    "\n",
    "mortality_df = pd.DataFrame(\n",
    "    data=df_data,\n",
    "    columns=df_columns\n",
    ")"
   ]
  },
  {
   "cell_type": "code",
   "execution_count": 26,
   "id": "94ce85a1-9428-4d5e-802a-f93d72eae608",
   "metadata": {},
   "outputs": [
    {
     "data": {
      "text/html": [
       "<div>\n",
       "<style scoped>\n",
       "    .dataframe tbody tr th:only-of-type {\n",
       "        vertical-align: middle;\n",
       "    }\n",
       "\n",
       "    .dataframe tbody tr th {\n",
       "        vertical-align: top;\n",
       "    }\n",
       "\n",
       "    .dataframe thead th {\n",
       "        text-align: right;\n",
       "    }\n",
       "</style>\n",
       "<table border=\"1\" class=\"dataframe\">\n",
       "  <thead>\n",
       "    <tr style=\"text-align: right;\">\n",
       "      <th></th>\n",
       "      <th>Year</th>\n",
       "      <th>Age Group</th>\n",
       "      <th>Death Rate</th>\n",
       "    </tr>\n",
       "  </thead>\n",
       "  <tbody>\n",
       "    <tr>\n",
       "      <th>0</th>\n",
       "      <td>1900</td>\n",
       "      <td>1-4 years</td>\n",
       "      <td>1983.8</td>\n",
       "    </tr>\n",
       "    <tr>\n",
       "      <th>1</th>\n",
       "      <td>1901</td>\n",
       "      <td>1-4 years</td>\n",
       "      <td>1695.0</td>\n",
       "    </tr>\n",
       "  </tbody>\n",
       "</table>\n",
       "</div>"
      ],
      "text/plain": [
       "   Year  Age Group  Death Rate\n",
       "0  1900  1-4 years      1983.8\n",
       "1  1901  1-4 years      1695.0"
      ]
     },
     "execution_count": 26,
     "metadata": {},
     "output_type": "execute_result"
    }
   ],
   "source": [
    "mortality_df"
   ]
  },
  {
   "cell_type": "code",
   "execution_count": 28,
   "id": "fdeb0e9c-69b6-4e6b-b464-413101b332c4",
   "metadata": {},
   "outputs": [],
   "source": [
    "mortality_data.to_pickle('mortality_data.pkl')"
   ]
  },
  {
   "cell_type": "code",
   "execution_count": 29,
   "id": "7045eec5-a98c-4d15-b73e-21649928fcaa",
   "metadata": {},
   "outputs": [],
   "source": [
    "mortality_data = pd.read_pickle('mortality_data.pkl')"
   ]
  },
  {
   "cell_type": "code",
   "execution_count": null,
   "id": "122530a9-f552-4e3a-8cde-e34d77ca9d3f",
   "metadata": {},
   "outputs": [],
   "source": []
  }
 ],
 "metadata": {
  "kernelspec": {
   "display_name": "Python 3 (ipykernel)",
   "language": "python",
   "name": "python3"
  },
  "language_info": {
   "codemirror_mode": {
    "name": "ipython",
    "version": 3
   },
   "file_extension": ".py",
   "mimetype": "text/x-python",
   "name": "python",
   "nbconvert_exporter": "python",
   "pygments_lexer": "ipython3",
   "version": "3.12.7"
  }
 },
 "nbformat": 4,
 "nbformat_minor": 5
}
